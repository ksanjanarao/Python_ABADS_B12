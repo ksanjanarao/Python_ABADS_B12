{
 "cells": [
  {
   "cell_type": "markdown",
   "id": "2f13e1c6",
   "metadata": {},
   "source": [
    "Section 1\n",
    "\n",
    "1. A statistics test was conducted for 10 learners in a class.\n",
    "The mean of their score is 85 and the variance of the score is zero. \n",
    "What can you interpret about the score obtained by all learners?\n",
    "\n",
    "Normal distribution\n",
    "Mean=85\n",
    "Sd=10\n",
    "P(75<x<95)=?\n",
    "Z score =(85-75)/10 =10/10=1\n",
    "Z score =(85-95)/10 =-10/10 =-1\n",
    "z score table for x=1and -1\n",
    "0.68\n",
    "Normal distribution and Probability curve property between x+ -1sd 68% cases lie\n",
    "     Here in this problem\n",
    "x+1sd =85+10=95\n",
    "x-1sd=85-10=75\n",
    "Probability of % cases that lie BETWEEN the range 75 and 95 is 68%\n",
    "\n",
    "Scores obtained by all learners: [85 85 85 85 85 85 85 85 85 85]\n",
    "\n",
    "\n",
    "\n"
   ]
  },
  {
   "cell_type": "code",
   "execution_count": 2,
   "id": "aa5a2471",
   "metadata": {},
   "outputs": [
    {
     "name": "stdout",
     "output_type": "stream",
     "text": [
      "Scores obtained by all learners: [85 85 85 85 85 85 85 85 85 85]\n",
      "\n",
      "Descriptive Statistics:\n",
      "Mean score: 85.0\n",
      "Variance of scores: 0.0\n",
      "Standard deviation of scores: 0.0\n",
      "Minimum score: 85\n",
      "Maximum score: 85\n",
      "Range of scores: 0\n",
      "Median score: 85.0\n"
     ]
    }
   ],
   "source": [
    "import numpy as np\n",
    "\n",
    "# Mean score\n",
    "mean_score = 85\n",
    "\n",
    "# Number of learners\n",
    "num_learners = 10\n",
    "\n",
    "# Since variance is zero, all scores are identical to the mean score\n",
    "scores = np.full(num_learners, mean_score)\n",
    "\n",
    "# Print the scores obtained by all learners\n",
    "print(\"Scores obtained by all learners:\", scores)\n",
    "\n",
    "# Descriptive statistics\n",
    "mean = np.mean(scores)\n",
    "variance = np.var(scores)\n",
    "std_dev = np.std(scores)\n",
    "min_score = np.min(scores)\n",
    "max_score = np.max(scores)\n",
    "range_scores = np.ptp(scores)  # Peak-to-peak (range) of scores\n",
    "median_score = np.median(scores)\n",
    "\n",
    "# Print descriptive statistics\n",
    "print(\"\\nDescriptive Statistics:\")\n",
    "print(\"Mean score:\", mean)\n",
    "print(\"Variance of scores:\", variance)\n",
    "print(\"Standard deviation of scores:\", std_dev)\n",
    "print(\"Minimum score:\", min_score)\n",
    "print(\"Maximum score:\", max_score)\n",
    "print(\"Range of scores:\", range_scores)\n",
    "print(\"Median score:\", median_score)\n",
    "\n",
    "    \n",
    "    "
   ]
  },
  {
   "cell_type": "markdown",
   "id": "c475537a",
   "metadata": {},
   "source": [
    "2. In a residential locality, the mean size of the house is 2224 square feet and the median value of the house is 1500 square feet. What can you interpret about the skewness in the distribution of house size? Are there bigger or smaller houses in the residential locality?\n",
    "\n",
    "Answer\n",
    "\n",
    "We can interpret the distribution of house sizes as being right-skewed. This is because when the mean is greater than the median, it suggests that there are a number of larger houses that are pulling the average up, indicating the presence of some houses with much larger sizes in the residential locality.\n",
    "\n",
    "In a right-skewed distribution, the tail on the right side is longer or fatter than the left side. This means that the majority of the houses are smaller (closer to the median), but there are a few houses that are much larger, which \n",
    "skews the distribution to the right.\n",
    "\n",
    "Here’s a simple way to visualize it:\n",
    "Left-Skewed:Median>Mean\n",
    "Right-Skewed:Mean>Median\n",
    "\n",
    "Here, since the mean is significantly higher than the median, it indicates that there are houses that are much larger than the typical house size in the area, leading to a right-skewed distribution of house sizes.\n",
    "\n",
    "Therefore, the distribution of house sizes in this residential locality is positively skewed, meaning there are relatively bigger or larger houses compared to smaller ones.\n",
    "            \n",
    "                           "
   ]
  },
  {
   "cell_type": "code",
   "execution_count": 3,
   "id": "56cbecaf",
   "metadata": {},
   "outputs": [
    {
     "name": "stdout",
     "output_type": "stream",
     "text": [
      "Based on the mean and median values:\n",
      "Mean house size = 2224 square feet\n",
      "Median house size = 1500 square feet\n",
      "The distribution of house sizes is positively skewed.\n",
      "There are bigger houses in the residential locality.\n"
     ]
    }
   ],
   "source": [
    "import numpy as np\n",
    "import matplotlib.pyplot as plt\n",
    "\n",
    "# Mean house size\n",
    "mean_house_size = 2224\n",
    "\n",
    "# Median house size\n",
    "median_house_size = 1500\n",
    "\n",
    "# Interpret skewness\n",
    "if mean_house_size > median_house_size:\n",
    "    skewness = \"positively skewed\"\n",
    "elif mean_house_size < median_house_size:\n",
    "    skewness = \"negatively skewed\"\n",
    "else:\n",
    "    skewness = \"symmetric (not skewed)\"\n",
    "\n",
    "# Determine bigger or smaller houses\n",
    "if mean_house_size > median_house_size:\n",
    "    size_comparison = \"There are bigger houses in the residential locality.\"\n",
    "elif mean_house_size < median_house_size:\n",
    "    size_comparison = \"There are smaller houses in the residential locality.\"\n",
    "else:\n",
    "    size_comparison = \"All houses are of similar size in the residential locality.\"\n",
    "\n",
    "# Print interpretation\n",
    "print(f\"Based on the mean and median values:\")\n",
    "print(f\"Mean house size = {mean_house_size} square feet\")\n",
    "print(f\"Median house size = {median_house_size} square feet\")\n",
    "print(f\"The distribution of house sizes is {skewness}.\")\n",
    "print(size_comparison)\n",
    "\n"
   ]
  },
  {
   "cell_type": "markdown",
   "id": "32c32955",
   "metadata": {},
   "source": [
    "3,The following table shows the mean and variance of the expenditure for two groups of people. You want to compare the variability in expenditure for both groups with respect to their mean. Which statistical measure would you use to evaluate the variability in expenditure? Please provide an explanation for your answer.\n",
    "          Expectation    Group1     Group2\n",
    "       0   Mean          $500.000   $40.000      \n",
    "       1   Std Dev       $125.000   $10,000\n",
    " \n",
    " Answer\n",
    "\n",
    "To evaluate the variability in expenditure for both groups with respect to their mean, we should use the coefficient of variation (CV).\n",
    "The coefficient of variation is a standardized measure of dispersion that allows us to compare the variability of different datasets, particularly when the means of the datasets are different. \n",
    "It is calculated as the ratio of the standard deviation to the mean, expressed as a percentage.\n",
    "Standard Deviation of group I us $125,000\n",
    "Standard Deviation of group II us $10,000\n",
    "\n",
    "The coefficient of variation (C.V) is given by \n",
    "                            (Standard deviation * 100)/Mean\n",
    "Thus C.V (Group I) = (125000*100)/500000 = 25\n",
    "Thus C.V (Group II) = (10000*100)/40000 = 25\n",
    "\n",
    "Both groups have same variability i.e.  coefficient of variation of 25%, indicating that the variability in expenditure relative to their mean is the same for both groups.\n",
    "By using the coefficient of variation, we can compare the relative variability of expenditure between the two groups while accounting for differences in their means.\n"
   ]
  },
  {
   "cell_type": "code",
   "execution_count": 1,
   "id": "4dc287bc",
   "metadata": {},
   "outputs": [
    {
     "name": "stdout",
     "output_type": "stream",
     "text": [
      "Coefficient of Variation (CV) for Group I: 25.00%\n",
      "Coefficient of Variation (CV) for Group II: 25.00%\n"
     ]
    }
   ],
   "source": [
    "# Given data\n",
    "mean_group_I = 500000\n",
    "std_dev_group_I = 125000\n",
    "\n",
    "mean_group_II = 40000\n",
    "std_dev_group_II = 10000\n",
    "\n",
    "# Calculate coefficient of variation (CV)\n",
    "cv_group_I = (std_dev_group_I / mean_group_I) * 100\n",
    "cv_group_II = (std_dev_group_II / mean_group_II) * 100\n",
    "\n",
    "# Print results\n",
    "print(f\"Coefficient of Variation (CV) for Group I: {cv_group_I:.2f}%\")\n",
    "print(f\"Coefficient of Variation (CV) for Group II: {cv_group_II:.2f}%\")"
   ]
  },
  {
   "cell_type": "markdown",
   "id": "3117e510",
   "metadata": {},
   "source": [
    "4. During the survey, the ages of 80 patients infected by COVID and admitted to one of the city hospitals were recorded and the collected data is represented in the less than cumulative frequency distribution table.\n",
    "  \n",
    "               Age(In Years)       No.of Patients\n",
    "                  5 - 15                6\n",
    "                  15 -25               11      \n",
    "                  25 - 35              21\n",
    "                  35 - 45              23\n",
    "                  45 - 55              14\n",
    "                  55 - 65               5\n",
    "  \n",
    "   \n",
    "a.\tWhich class interval has the highest frequency?\n",
    "\n",
    "          35-45 is having highest frequency of 23.\n",
    "          \n",
    "b. Which age was affected the least?\n",
    "                   \n",
    "                   55-65\n",
    "                   \n",
    "c. How many patients aged 45 years and above were admitted?\n",
    "               \n",
    "               19           (45-55  14)\n",
    "                            (55-65)   5)\n",
    "                            \n",
    "d. Which is the modal class interval in the above dataset\n",
    "\t\n",
    "    Since the highest frequency is 23 which belongs to 35-45.\n",
    "          Therefore, modal class is 35-45\n",
    " \n",
    "e. What is the median class interval of age?\n",
    "\n",
    "          Here, the total patients are  n 80 n/2=40                                   which lies in 35-45 interval.\n",
    "\t      Therefore, median class is 35-45.\n",
    "\n"
   ]
  },
  {
   "cell_type": "code",
   "execution_count": 4,
   "id": "3e2870cb",
   "metadata": {},
   "outputs": [
    {
     "name": "stdout",
     "output_type": "stream",
     "text": [
      "a. Class interval with highest frequency: 35-45\n",
      "b. Age interval affected the least: 55-65\n",
      "c. Number of patients aged 45 and above: 19\n",
      "d. Modal class interval: 35-45\n"
     ]
    }
   ],
   "source": [
    "# Given data\n",
    "age_intervals = [\"5-15\", \"15-25\", \"25-35\", \"35-45\", \"45-55\", \"55-65\"]\n",
    "patients = [6, 11, 21, 23, 14, 5]\n",
    "\n",
    "# a. Which class interval has the highest frequency?\n",
    "max_freq_index = patients.index(max(patients))\n",
    "highest_frequency_interval = age_intervals[max_freq_index]\n",
    "highest_frequency = patients[max_freq_index]\n",
    "\n",
    "# b. Which age was affected the least?\n",
    "min_freq_index = patients.index(min(patients))\n",
    "least_affected_interval = age_intervals[min_freq_index]\n",
    "least_affected_frequency = patients[min_freq_index]\n",
    "\n",
    "# c. How many patients aged 45 years and above were admitted?\n",
    "patients_45_and_above = sum(patients[4:])  # Summing frequencies from age 45-55 and age 55-65\n",
    "\n",
    "# d. Which is the modal class interval in the above data?\n",
    "modal_class_index = patients.index(max(patients))\n",
    "modal_class_interval = age_intervals[modal_class_index]\n",
    "\n",
    "# Print answers\n",
    "print(f\"a. Class interval with highest frequency: {highest_frequency_interval}\")\n",
    "print(f\"b. Age interval affected the least: {least_affected_interval}\")\n",
    "print(f\"c. Number of patients aged 45 and above: {patients_45_and_above}\")\n",
    "print(f\"d. Modal class interval: {modal_class_interval}\")"
   ]
  },
  {
   "cell_type": "markdown",
   "id": "bff4271f",
   "metadata": {},
   "source": [
    "5. Assume you are the trader and you have invested over the years, and you are worried about the average return on investment. What average method would you use to compute the average return for the data given below?\n",
    "\n",
    "               Year         Return         Asset Price\n",
    "               2015           36%            5000\n",
    "               2016           23%            6400  \n",
    "               2017           48%            7890\n",
    "               2018           38%            9023\n",
    "               2019           15%            4567\n",
    "               2020           31%            3890 \n",
    " \n",
    "Answer\n",
    "\n",
    "To compute the average return on investment for the given data, we can use the geometric mean. The geometric mean is a measure of average that accounts for the compounding effect of returns over multiple periods, making it suitable for calculating the average return on investment over several years.\n",
    "\n",
    "Using the data provided:\n",
    "\n",
    "((1 + 0.36)(1 + 0.23)(1 - 0.48)(1 - 0.30)(1 + 0.15)*(1 + 0.31)^ 1/6 - 1 )\n",
    "\n",
    "Calculating the product inside the parentheses:\n",
    "(Geometric Mean) = (1.36 * 1.23 * 0.52 * 0.70 * 1.15 * 1.31)^1/6 - 1 \n",
    "(Geometric Mean) = (0.3335859)^1/6 - 1 \n",
    "(Geometric Mean) = 1.094618 - 1 \n",
    "(Geometric Mean) = 0.094618\n",
    "\n",
    "So, the average return on investment, using the geometric mean, is approximately ( 9.46 % ) per year over the period from 2015 to 2020.\n",
    "\n",
    "\n",
    " \n"
   ]
  },
  {
   "cell_type": "code",
   "execution_count": 29,
   "id": "6540a2f2",
   "metadata": {},
   "outputs": [
    {
     "name": "stdout",
     "output_type": "stream",
     "text": [
      "Geometric Mean: -0.0143\n"
     ]
    }
   ],
   "source": [
    "\n",
    "\n",
    "returns = np.array([0.36, 0.23, -0.48, -0.30, 0.15, 0.31])\n",
    "asset_prices = np.array([5000, 6400, 7890, 9023, 4567, 3890])\n",
    "\n",
    "geometric_mean = np.prod(1 + returns) ** (1 / len(returns)) - 1\n",
    "print(f\"Geometric Mean: {geometric_mean:.4f}\")"
   ]
  },
  {
   "cell_type": "raw",
   "id": "b24640fa",
   "metadata": {},
   "source": [
    "6. Suppose you have been told to measure the average height of all the males on the earth. What would be your strategy for the same? Would the average height be a parameter or a statistic? Justify your answer.\n",
    "      \n",
    "Amswer\n",
    "\n",
    "      Yes, average height is the parameter\n",
    "\n",
    "It’s impractical to measure each and every male on earth, so we’ll use a sample. (Sampling methodology)\n",
    "\n",
    "Defining the Population and Parameter of Interest\n",
    "\n",
    "•\tPopulation: All men on earth.\n",
    "•\tParameter of Interest: Average height of men (in feet).\n",
    "\tSelecting a Representative Sample\n",
    "•\tWe randomly select 100 men from different parts of the earth to minimize       bias.\n",
    "•\tSample Size: n=100.\n",
    "\n",
    "Collecting Data\n",
    "\n",
    "•\tMeasure the height of each and every person.\n",
    "\n",
    "Calculating Sample Statistics\n",
    "\n",
    "•\tSuppose the average height of our sample men is 5.5 feet.\n",
    "•\tSample Mean (xˉ): 5.4 feet.\n",
    "\n",
    "Using Estimators\n",
    "\n",
    "•\tThe sample mean (xˉ) is used as an estimator for the population mean (μ).\n",
    "\n",
    "Determining Margin of Error and Confidence Level\n",
    "\n",
    "•\tAssume the standard deviation of the sample is 3 meters.\n",
    "•\tWe choose a 95% confidence level.\n",
    "\t\n",
    "Calculating Confidence Intervals\n",
    "\n",
    "•\tWe use the t-distribution (as the population standard deviation is unknown) to calculate the confidence interval.\n",
    "•\tThe formula for the confidence interval is:\n",
    "•\tCI=xˉ±t×ns\n",
    "•\tWhere xˉ is the sample mean, \n",
    "    t is the t-score corresponding to the 95% confidence level, \n",
    "    s is the sample standard deviation, and \n",
    "    n is the sample size.\n",
    "\n",
    "Interpreting the Results\n",
    "\n",
    "•\tLet’s say our confidence interval calculation gives us an interval from 5.0     to 5.5 feet.\n",
    "•\tWe interpret this as: We are 95% confident that the average height of men       on the earth is between 5.0 and 5.5 feet.\n",
    "\n",
    "Considerations\n",
    "\n",
    "•\tWe assume that our sample is representative and that the height of men is approximately normally distributed.\n",
    " \n"
   ]
  },
  {
   "cell_type": "code",
   "execution_count": null,
   "id": "2240d0f9",
   "metadata": {},
   "outputs": [],
   "source": [
    "import numpy as np\n",
    "\n",
    "# Example heights (in centimeters) of a sample of males\n",
    "heights_sample = [175, 180, 165, 170, 185]\n",
    "\n",
    "# Calculate the average height (statistic)\n",
    "average_height_sample = np.mean(heights_sample)\n",
    "\n",
    "# Print the average height of the sample\n",
    "print(f\"Average height of the sample: {average_height_sample:.2f} cm\")"
   ]
  },
  {
   "cell_type": "markdown",
   "id": "00fe1088",
   "metadata": {},
   "source": [
    "7. Calculate the z score of the following numbers:\n",
    "X = [4.5,6.2,7.3,9.1,10.4,11]\n",
    "Mean  µ = (4.5 + 6.2 +7.3 + 9.1 +10.4 + 11) / 6 = 8.08\n",
    "Standard Deviation  σ = √1/N ∑ (Xi-µ)2\n",
    "                      = √(4.5-8.08)2 + (6.2-8.08)2 + (7.3-8.08)2 \n",
    "                        + (9.1-8.08)2 + (10.4-8.08)2  + (11-8.08)2\n",
    "\t\t\t          = √12.82 + 3.53 + 0.61 + 1.04 + 5.38 + 8.53\n",
    "\t\t\t          = √31.91/6 \n",
    "\t\t\t          = √5.3183\n",
    "\t\t\t          = 2.30\n",
    "Z score =\tx - μ/ σ\n",
    "\n",
    "Z-score of 4.5 = (4.5 – 8.08)/2.3 -1.55653\n",
    "Z-score of 6.2 = (6.2 – 8.08)/2.3 = -0.81739\n",
    "Z-score of 7.3 = (7.3 – 8.08)/2.3 = -0.33913\n",
    "Z-score of 9.1 = (9.1 – 8.08)/2.3 = 0.44348\n",
    "Z-score of 10.4 = (10.4 – 8.08)/2.3 = 1.0087\n",
    "Z-score of 11 = (11 – 8.08)/2.3 = 1.26957\n"
   ]
  },
  {
   "cell_type": "code",
   "execution_count": 6,
   "id": "fcb77d25",
   "metadata": {},
   "outputs": [
    {
     "name": "stdout",
     "output_type": "stream",
     "text": [
      "Z-score for X[0]: -1.55\n",
      "Z-score for X[1]: -0.82\n",
      "Z-score for X[2]: -0.34\n",
      "Z-score for X[3]: 0.44\n",
      "Z-score for X[4]: 1.00\n",
      "Z-score for X[5]: 1.26\n"
     ]
    }
   ],
   "source": [
    "import numpy as np\n",
    "\n",
    "# Given data\n",
    "X = np.array([4.5, 6.2, 7.3, 9.1, 10.4, 11])\n",
    "\n",
    "# Calculate mean and standard deviation\n",
    "mean_X = np.mean(X)\n",
    "std_dev_X = np.std(X)\n",
    "\n",
    "# Calculate z-scores\n",
    "z_scores = (X - mean_X) / std_dev_X\n",
    "\n",
    "# Print z-scores\n",
    "for i, z in enumerate(z_scores):\n",
    "    print(f\"Z-score for X[{i}]: {z:.2f}\")"
   ]
  },
  {
   "cell_type": "code",
   "execution_count": null,
   "id": "4a5d920e",
   "metadata": {},
   "outputs": [],
   "source": []
  },
  {
   "cell_type": "markdown",
   "id": "18636dcc",
   "metadata": {},
   "source": [
    "Section 2\n",
    "\n",
    "You are expected to perform statistical analysis for the Bank Personal Loan Modelling dataset. Below is the data dictionary. For questions, 8 to 20 use the Bank Personal Loan Modelling dataset and answer the given questions."
   ]
  },
  {
   "cell_type": "markdown",
   "id": "9f71aee9",
   "metadata": {},
   "source": [
    "8. Give us the statistical summary for all the variables in the dataset."
   ]
  },
  {
   "cell_type": "code",
   "execution_count": 5,
   "id": "08e583d7",
   "metadata": {},
   "outputs": [
    {
     "name": "stdout",
     "output_type": "stream",
     "text": [
      "   ID  Age  Experience  Income  ZIP Code  Family  CCAvg  Education  Mortgage  \\\n",
      "0   1   25           1      49     91107       4    1.6          1         0   \n",
      "1   2   45          19      34     90089       3    1.5          1         0   \n",
      "2   3   39          15      11     94720       1    1.0          1         0   \n",
      "3   4   35           9     100     94112       1    2.7          2         0   \n",
      "4   5   35           8      45     91330       4    1.0          2         0   \n",
      "5   6   37          13      29     92121       4    0.4          2       155   \n",
      "6   7   53          27      72     91711       2    1.5          2         0   \n",
      "7   8   50          24      22     93943       1    0.3          3         0   \n",
      "8   9   35          10      81     90089       3    0.6          2       104   \n",
      "9  10   34           9     180     93023       1    8.9          3         0   \n",
      "\n",
      "   Personal Loan  Securities Account  CD Account  Online  CreditCard  \n",
      "0              0                   1           0       0           0  \n",
      "1              0                   1           0       0           0  \n",
      "2              0                   0           0       0           0  \n",
      "3              0                   0           0       0           0  \n",
      "4              0                   0           0       0           1  \n",
      "5              0                   0           0       1           0  \n",
      "6              0                   0           0       1           0  \n",
      "7              0                   0           0       0           1  \n",
      "8              0                   0           0       1           0  \n",
      "9              1                   0           0       0           0  \n",
      "<class 'pandas.core.frame.DataFrame'>\n",
      "RangeIndex: 5000 entries, 0 to 4999\n",
      "Data columns (total 14 columns):\n",
      " #   Column              Non-Null Count  Dtype  \n",
      "---  ------              --------------  -----  \n",
      " 0   ID                  5000 non-null   int64  \n",
      " 1   Age                 5000 non-null   int64  \n",
      " 2   Experience          5000 non-null   int64  \n",
      " 3   Income              5000 non-null   int64  \n",
      " 4   ZIP Code            5000 non-null   int64  \n",
      " 5   Family              5000 non-null   int64  \n",
      " 6   CCAvg               5000 non-null   float64\n",
      " 7   Education           5000 non-null   int64  \n",
      " 8   Mortgage            5000 non-null   int64  \n",
      " 9   Personal Loan       5000 non-null   int64  \n",
      " 10  Securities Account  5000 non-null   int64  \n",
      " 11  CD Account          5000 non-null   int64  \n",
      " 12  Online              5000 non-null   int64  \n",
      " 13  CreditCard          5000 non-null   int64  \n",
      "dtypes: float64(1), int64(13)\n",
      "memory usage: 547.0 KB\n",
      "        ID  Age  Experience  Income  ZIP Code  Family  CCAvg  Education  \\\n",
      "0        1   25           1      49     91107       4    1.6          1   \n",
      "1        2   45          19      34     90089       3    1.5          1   \n",
      "2        3   39          15      11     94720       1    1.0          1   \n",
      "3        4   35           9     100     94112       1    2.7          2   \n",
      "4        5   35           8      45     91330       4    1.0          2   \n",
      "...    ...  ...         ...     ...       ...     ...    ...        ...   \n",
      "4995  4996   29           3      40     92697       1    1.9          3   \n",
      "4996  4997   30           4      15     92037       4    0.4          1   \n",
      "4997  4998   63          39      24     93023       2    0.3          3   \n",
      "4998  4999   65          40      49     90034       3    0.5          2   \n",
      "4999  5000   28           4      83     92612       3    0.8          1   \n",
      "\n",
      "      Mortgage  Personal Loan  Securities Account  CD Account  Online  \\\n",
      "0            0              0                   1           0       0   \n",
      "1            0              0                   1           0       0   \n",
      "2            0              0                   0           0       0   \n",
      "3            0              0                   0           0       0   \n",
      "4            0              0                   0           0       0   \n",
      "...        ...            ...                 ...         ...     ...   \n",
      "4995         0              0                   0           0       1   \n",
      "4996        85              0                   0           0       1   \n",
      "4997         0              0                   0           0       0   \n",
      "4998         0              0                   0           0       1   \n",
      "4999         0              0                   0           0       1   \n",
      "\n",
      "      CreditCard  \n",
      "0              0  \n",
      "1              0  \n",
      "2              0  \n",
      "3              0  \n",
      "4              1  \n",
      "...          ...  \n",
      "4995           0  \n",
      "4996           0  \n",
      "4997           0  \n",
      "4998           0  \n",
      "4999           1  \n",
      "\n",
      "[5000 rows x 14 columns]\n"
     ]
    }
   ],
   "source": [
    "import pandas as pd\n",
    "import numpy as np\n",
    "df = pd.DataFrame(data)\n",
    "\n",
    "\n",
    "data = pd.read_csv(\"C:\\\\Users\\\\91998\\\\Downloads\\\\pythonNew\\\\bank_det.csv\")\n",
    "\n",
    "print (data.head(10))\n",
    "df.info()\n",
    "df.describe()\n",
    "print(data)"
   ]
  },
  {
   "cell_type": "markdown",
   "id": "71b1fd68",
   "metadata": {},
   "source": [
    "9. Evaluate the measures of central tendency and measures of dispersion for all the quantitative variables in the dataset."
   ]
  },
  {
   "cell_type": "code",
   "execution_count": 6,
   "id": "ad42f36f",
   "metadata": {},
   "outputs": [
    {
     "name": "stdout",
     "output_type": "stream",
     "text": [
      "=======9. measures of central tendency and measures of dispersion Statistics=======\n",
      "------Mean---\n",
      "Age           45.3384\n",
      "Experience    20.1046\n",
      "Income        73.7742\n",
      "Family         2.3964\n",
      "Mortgage      56.4988\n",
      "dtype: float64\n",
      "------Median---\n",
      "Age           45.0\n",
      "Experience    20.0\n",
      "Income        64.0\n",
      "Family         2.0\n",
      "Mortgage       0.0\n",
      "dtype: float64\n",
      "------Mode---\n",
      "   Age  Experience  Income  Family  Mortgage\n",
      "0   35          32      44       1         0\n",
      "------Standard deviation---\n",
      "Age            11.463166\n",
      "Experience     11.467954\n",
      "Income         46.033729\n",
      "Family          1.147663\n",
      "Mortgage      101.713802\n",
      "dtype: float64\n",
      "------Variance---\n",
      "Age             131.404166\n",
      "Experience      131.513962\n",
      "Income         2119.104235\n",
      "Family            1.317130\n",
      "Mortgage      10345.697538\n",
      "dtype: float64\n",
      "------Quartile---\n",
      "       Age  Experience  Income  Family  Mortgage\n",
      "0.25  35.0        10.0    39.0     1.0       0.0\n",
      "0.50  45.0        20.0    64.0     2.0       0.0\n",
      "0.75  55.0        30.0    98.0     3.0     101.0\n",
      "=======END=======\n",
      "=======10. linear relationship between age and experience =======\n",
      "                 Age  Experience\n",
      "Age         1.000000    0.994215\n",
      "Experience  0.994215    1.000000\n",
      "The correlation between Age and Experience is 0.9942148569683317\n"
     ]
    }
   ],
   "source": [
    "# calculating measure of central tendency and measure of dispersiom\n",
    "import pandas as pd\n",
    "import numpy as np\n",
    "\n",
    "data = pd.read_csv(\"C:\\\\Users\\\\91998\\\\Downloads\\\\pythonNew\\\\bank_det.csv\")\n",
    "df = pd.DataFrame(data)\n",
    "\n",
    "#Qantitative columns\n",
    "df1 = df[['Age','Experience','Income','Family','Mortgage']]\n",
    "print(\"=======9. measures of central tendency and measures of dispersion Statistics=======\")\n",
    "print(\"------Mean---\")\n",
    "print(df1.mean())\n",
    "print(\"------Median---\")\n",
    "print(df1.median())\n",
    "print(\"------Mode---\")\n",
    "print(df1.mode())\n",
    "print(\"------Standard deviation---\")\n",
    "print(df1.std())\n",
    "print(\"------Variance---\")\n",
    "print(df1.var())\n",
    "print(\"------Quartile---\")\n",
    "print(df1.quantile([0.25, 0.5, 0.75]))\n",
    "print(\"=======END=======\")\n",
    "#linear relationship\n",
    "print(\"=======10. linear relationship between age and experience =======\")\n",
    "dflinear = df[['Age','Experience']]\n",
    "print(dflinear.corr())\n",
    "correlation = df['Age'].corr(df['Experience'])\n",
    "print(f\"The correlation between Age and Experience is {correlation}\")\n",
    "    "
   ]
  },
  {
   "cell_type": "markdown",
   "id": "b46e0ea1",
   "metadata": {},
   "source": [
    "10. What statistical method will you use to examine the presence of a linear relationship between age and experience variables? Also, create a plot to illustrate this relationship.\n",
    "\n",
    "To get the presence of linear relationship between age and experience, \n",
    "We can use Pearson’s correlation coefficient\n",
    "If there’s a strong relationship between age and experience, the correlation co-efficient will be close to +1 or -1.\n",
    "If there’s no relationship, then the correlation co-efficient will be zero.\n"
   ]
  },
  {
   "cell_type": "code",
   "execution_count": 8,
   "id": "4b6494e3",
   "metadata": {},
   "outputs": [
    {
     "name": "stdout",
     "output_type": "stream",
     "text": [
      "   ID  Age  Experience  Income  ZIP Code  Family  CCAvg  Education  Mortgage  \\\n",
      "0   1   25           1      49     91107       4    1.6          1         0   \n",
      "1   2   45          19      34     90089       3    1.5          1         0   \n",
      "2   3   39          15      11     94720       1    1.0          1         0   \n",
      "3   4   35           9     100     94112       1    2.7          2         0   \n",
      "4   5   35           8      45     91330       4    1.0          2         0   \n",
      "5   6   37          13      29     92121       4    0.4          2       155   \n",
      "6   7   53          27      72     91711       2    1.5          2         0   \n",
      "7   8   50          24      22     93943       1    0.3          3         0   \n",
      "8   9   35          10      81     90089       3    0.6          2       104   \n",
      "9  10   34           9     180     93023       1    8.9          3         0   \n",
      "\n",
      "   Personal Loan  Securities Account  CD Account  Online  CreditCard  \n",
      "0              0                   1           0       0           0  \n",
      "1              0                   1           0       0           0  \n",
      "2              0                   0           0       0           0  \n",
      "3              0                   0           0       0           0  \n",
      "4              0                   0           0       0           1  \n",
      "5              0                   0           0       1           0  \n",
      "6              0                   0           0       1           0  \n",
      "7              0                   0           0       0           1  \n",
      "8              0                   0           0       1           0  \n",
      "9              1                   0           0       0           0  \n",
      "<class 'pandas.core.frame.DataFrame'>\n",
      "RangeIndex: 5000 entries, 0 to 4999\n",
      "Data columns (total 14 columns):\n",
      " #   Column              Non-Null Count  Dtype  \n",
      "---  ------              --------------  -----  \n",
      " 0   ID                  5000 non-null   int64  \n",
      " 1   Age                 5000 non-null   int64  \n",
      " 2   Experience          5000 non-null   int64  \n",
      " 3   Income              5000 non-null   int64  \n",
      " 4   ZIP Code            5000 non-null   int64  \n",
      " 5   Family              5000 non-null   int64  \n",
      " 6   CCAvg               5000 non-null   float64\n",
      " 7   Education           5000 non-null   int64  \n",
      " 8   Mortgage            5000 non-null   int64  \n",
      " 9   Personal Loan       5000 non-null   int64  \n",
      " 10  Securities Account  5000 non-null   int64  \n",
      " 11  CD Account          5000 non-null   int64  \n",
      " 12  Online              5000 non-null   int64  \n",
      " 13  CreditCard          5000 non-null   int64  \n",
      "dtypes: float64(1), int64(13)\n",
      "memory usage: 547.0 KB\n",
      "        ID  Age  Experience  Income  ZIP Code  Family  CCAvg  Education  \\\n",
      "0        1   25           1      49     91107       4    1.6          1   \n",
      "1        2   45          19      34     90089       3    1.5          1   \n",
      "2        3   39          15      11     94720       1    1.0          1   \n",
      "3        4   35           9     100     94112       1    2.7          2   \n",
      "4        5   35           8      45     91330       4    1.0          2   \n",
      "...    ...  ...         ...     ...       ...     ...    ...        ...   \n",
      "4995  4996   29           3      40     92697       1    1.9          3   \n",
      "4996  4997   30           4      15     92037       4    0.4          1   \n",
      "4997  4998   63          39      24     93023       2    0.3          3   \n",
      "4998  4999   65          40      49     90034       3    0.5          2   \n",
      "4999  5000   28           4      83     92612       3    0.8          1   \n",
      "\n",
      "      Mortgage  Personal Loan  Securities Account  CD Account  Online  \\\n",
      "0            0              0                   1           0       0   \n",
      "1            0              0                   1           0       0   \n",
      "2            0              0                   0           0       0   \n",
      "3            0              0                   0           0       0   \n",
      "4            0              0                   0           0       0   \n",
      "...        ...            ...                 ...         ...     ...   \n",
      "4995         0              0                   0           0       1   \n",
      "4996        85              0                   0           0       1   \n",
      "4997         0              0                   0           0       0   \n",
      "4998         0              0                   0           0       1   \n",
      "4999         0              0                   0           0       1   \n",
      "\n",
      "      CreditCard  \n",
      "0              0  \n",
      "1              0  \n",
      "2              0  \n",
      "3              0  \n",
      "4              1  \n",
      "...          ...  \n",
      "4995           0  \n",
      "4996           0  \n",
      "4997           0  \n",
      "4998           0  \n",
      "4999           1  \n",
      "\n",
      "[5000 rows x 14 columns]\n",
      "Pearson’s correlation coefficient between age and experience is 0.9942148569683317\n"
     ]
    },
    {
     "data": {
      "text/plain": [
       "<Axes: xlabel='Age', ylabel='Experience'>"
      ]
     },
     "execution_count": 8,
     "metadata": {},
     "output_type": "execute_result"
    },
    {
     "data": {
      "image/png": "[encoded data removed]",
      "text/plain": [
       "<Figure size 640x480 with 1 Axes>"
      ]
     },
     "metadata": {},
     "output_type": "display_data"
    }
   ],
   "source": [
    "import pandas as pd\n",
    "import numpy as np\n",
    "import seaborn as sns\n",
    "\n",
    "data = pd.read_csv(\"C:\\\\Users\\\\91998\\\\Downloads\\\\pythonNew\\\\bank_det.csv\")\n",
    "df = pd.DataFrame(data)\n",
    "print (data.head(10))\n",
    "df.info()\n",
    "df.describe()\n",
    "print(data)\n",
    "\n",
    "\n",
    "correlation = df[\"Age\"].corr(df[\"Experience\"])\n",
    "print (\"Pearson’s correlation coefficient between age and experience is\", correlation)\n",
    "#sb.scatterplot(x=df[\"Age\"], y = df[\"Experience\"])\n",
    "#<Axes: xlabel ='Age', ylabel='Experience'>\n",
    "sns.scatterplot(x='Age',y='Experience',data =df)\n",
    "\n",
    "\n"
   ]
  },
  {
   "cell_type": "markdown",
   "id": "c5d6bfee",
   "metadata": {},
   "source": [
    "11. What is the most frequent family size observed in this dataset?"
   ]
  },
  {
   "cell_type": "code",
   "execution_count": 9,
   "id": "36a0f0d8",
   "metadata": {},
   "outputs": [
    {
     "name": "stdout",
     "output_type": "stream",
     "text": [
      "=======11. most frequent family size observed  =======\n",
      "------Mode---\n",
      "   Family\n",
      "0       1\n",
      "=======END=======\n"
     ]
    }
   ],
   "source": [
    "print(\"=======11. most frequent family size observed  =======\")\n",
    "dfFamily = df[['Family']]\n",
    "print(\"------Mode---\")\n",
    "print(dfFamily.mode())\n",
    "print(\"=======END=======\")\n"
   ]
  },
  {
   "cell_type": "markdown",
   "id": "a9a1ba39",
   "metadata": {},
   "source": [
    "12. What is the percentage of variation you can observe in the ‘Income’ variable?"
   ]
  },
  {
   "cell_type": "code",
   "execution_count": 10,
   "id": "8eecde73",
   "metadata": {},
   "outputs": [
    {
     "name": "stdout",
     "output_type": "stream",
     "text": [
      "=======13. Impute with some business logical value   =======\n",
      "------Median---\n",
      "Mortgage    153.0\n",
      "dtype: float64\n",
      "------Median---\n",
      "Mortgage    0.0\n",
      "dtype: float64\n",
      "=======END=======\n"
     ]
    }
   ],
   "source": [
    "print(\"=======13. Impute with some business logical value   =======\")\n",
    "dfMortgage = df[['Mortgage']]\n",
    "dfnonZeroMort = dfMortgage[dfMortgage['Mortgage']!=0]\n",
    "print(\"------Median---\")\n",
    "print(dfnonZeroMort.median())\n",
    "\n",
    "dfMortgage = df[['Mortgage']]\n",
    "dfZeroMort = dfMortgage[dfMortgage['Mortgage']==0]\n",
    "print(\"------Median---\")\n",
    "print(dfZeroMort.median())\n",
    "print(\"=======END=======\")\n"
   ]
  },
  {
   "cell_type": "markdown",
   "id": "3e1a2949",
   "metadata": {},
   "source": [
    "13. The ‘Mortgage’ variable has a lot of zeroes. Impute with some business logical value that you feel fit for the data."
   ]
  },
  {
   "cell_type": "code",
   "execution_count": 12,
   "id": "9b2b7537",
   "metadata": {},
   "outputs": [
    {
     "name": "stdout",
     "output_type": "stream",
     "text": [
      "=======13. Impute with some business logical value   =======\n",
      "------Median---\n",
      "Mortgage    153.0\n",
      "dtype: float64\n",
      "------Median---\n",
      "Mortgage    0.0\n",
      "dtype: float64\n",
      "=======END=======\n"
     ]
    }
   ],
   "source": [
    "print(\"=======13. Impute with some business logical value   =======\")\n",
    "dfMortgage = df[['Mortgage']]\n",
    "dfnonZeroMort = dfMortgage[dfMortgage['Mortgage']!=0]\n",
    "print(\"------Median---\")\n",
    "print(dfnonZeroMort.median())\n",
    "\n",
    "dfMortgage = df[['Mortgage']]\n",
    "dfZeroMort = dfMortgage[dfMortgage['Mortgage']==0]\n",
    "print(\"------Median---\")\n",
    "print(dfZeroMort.median())\n",
    "print(\"=======END=======\")\n"
   ]
  },
  {
   "cell_type": "markdown",
   "id": "144a5ef5",
   "metadata": {},
   "source": [
    "14. Plot a density curve of the CCAvg variable for the customers who possess credit cards and write an interpretation about its distribution."
   ]
  },
  {
   "cell_type": "code",
   "execution_count": 14,
   "id": "009f6ddb",
   "metadata": {},
   "outputs": [
    {
     "name": "stdout",
     "output_type": "stream",
     "text": [
      "CreditCard\n",
      "0    3530\n",
      "1    1470\n",
      "Name: count, dtype: int64\n"
     ]
    },
    {
     "data": {
      "image/png": "[encoded data removed]",
      "text/plain": [
       "<Figure size 1000x600 with 1 Axes>"
      ]
     },
     "metadata": {},
     "output_type": "display_data"
    }
   ],
   "source": [
    "import seaborn as sns\n",
    "import matplotlib.pyplot as plt\n",
    "cc_customers = df.CreditCard.value_counts()\n",
    "print(cc_customers)\n",
    "plt.figure(figsize=(10, 6))\n",
    "sns.kdeplot(cc_customers, fill=True, color='blue')\n",
    "plt.title('Density Curve of CCAvg for Customers with Credit Cards')\n",
    "plt.xlabel('Average Credit Card Spending (CCAvg)')\n",
    "plt.ylabel('Density')\n",
    "plt.grid(True)\n",
    "plt.show()"
   ]
  },
  {
   "cell_type": "markdown",
   "id": "f25c940d",
   "metadata": {},
   "source": [
    "15. Do you see any outliers in the dataset? If yes, what plot you would think will be suitable to showcase to the stakeholders?"
   ]
  },
  {
   "cell_type": "code",
   "execution_count": 21,
   "id": "1189cc30",
   "metadata": {},
   "outputs": [
    {
     "name": "stdout",
     "output_type": "stream",
     "text": [
      "=======15. outliers in the dataset   =======\n",
      "35.0\n",
      "55.0\n",
      "Index([], dtype='int64')\n",
      "Age: Index([], dtype='int64')\n",
      "10.0\n",
      "30.0\n",
      "Index([], dtype='int64')\n",
      "Experience: Index([], dtype='int64')\n",
      "39.0\n",
      "98.0\n",
      "Index([  18,   47,   53,   59,  303,  329,  459,  526,  677,  740,  779,  782,\n",
      "        787,  914,  917,  940, 1014, 1067, 1084, 1097, 1130, 1167, 1204, 1277,\n",
      "       1307, 1320, 1395, 1432, 1504, 1551, 1552, 1592, 1637, 1666, 1704, 1711,\n",
      "       1716, 1719, 1783, 1785, 1824, 1901, 1912, 1935, 2087, 2101, 2196, 2215,\n",
      "       2246, 2278, 2319, 2337, 2447, 2646, 2704, 2753, 2841, 2859, 2904, 2934,\n",
      "       2956, 2988, 3124, 3312, 3351, 3458, 3483, 3543, 3568, 3608, 3639, 3758,\n",
      "       3804, 3821, 3896, 3943, 4009, 4020, 4042, 4122, 4156, 4225, 4267, 4282,\n",
      "       4292, 4309, 4484, 4563, 4574, 4606, 4655, 4659, 4670, 4895, 4981, 4993],\n",
      "      dtype='int64')\n",
      "Income outliner: Index([  18,   47,   53,   59,  303,  329,  459,  526,  677,  740,  779,  782,\n",
      "        787,  914,  917,  940, 1014, 1067, 1084, 1097, 1130, 1167, 1204, 1277,\n",
      "       1307, 1320, 1395, 1432, 1504, 1551, 1552, 1592, 1637, 1666, 1704, 1711,\n",
      "       1716, 1719, 1783, 1785, 1824, 1901, 1912, 1935, 2087, 2101, 2196, 2215,\n",
      "       2246, 2278, 2319, 2337, 2447, 2646, 2704, 2753, 2841, 2859, 2904, 2934,\n",
      "       2956, 2988, 3124, 3312, 3351, 3458, 3483, 3543, 3568, 3608, 3639, 3758,\n",
      "       3804, 3821, 3896, 3943, 4009, 4020, 4042, 4122, 4156, 4225, 4267, 4282,\n",
      "       4292, 4309, 4484, 4563, 4574, 4606, 4655, 4659, 4670, 4895, 4981, 4993],\n",
      "      dtype='int64')\n"
     ]
    },
    {
     "data": {
      "image/png": "[encoded data removed]",
      "text/plain": [
       "<Figure size 1000x600 with 1 Axes>"
      ]
     },
     "metadata": {},
     "output_type": "display_data"
    },
    {
     "name": "stdout",
     "output_type": "stream",
     "text": [
      "0.0\n",
      "101.0\n",
      "Index([  22,   39,   42,   59,   66,  112,  119,  130,  187,  209,\n",
      "       ...\n",
      "       4765, 4812, 4842, 4844, 4847, 4859, 4865, 4899, 4942, 4963],\n",
      "      dtype='int64', length=291)\n",
      "Index([  22,   39,   42,   59,   66,  112,  119,  130,  187,  209,\n",
      "       ...\n",
      "       4765, 4812, 4842, 4844, 4847, 4859, 4865, 4899, 4942, 4963],\n",
      "      dtype='int64', length=291)\n"
     ]
    }
   ],
   "source": [
    "import pandas as pd\n",
    "import numpy as np\n",
    "import seaborn as sns\n",
    "import matplotlib.pyplot as plt\n",
    "\n",
    "def getOutlier(columnName):\n",
    "    # calculate IQR for column Height\n",
    "    Q1 = df[columnName].quantile(0.25)\n",
    "    Q3 = df[columnName].quantile(0.75)\n",
    "    IQR = Q3 - Q1\n",
    "    print(Q1)\n",
    "    print(Q3)\n",
    "\n",
    "    # identify outliers\n",
    "    threshold = 1.5\n",
    "    outliers = df[(df[columnName] < Q1 - threshold * IQR) | (df[columnName] > Q3 + threshold * IQR)]\n",
    "    print(outliers.index)\n",
    "    return outliers.index\n",
    "\n",
    "print(\"=======15. outliers in the dataset   =======\")\n",
    "ageOutliner = getOutlier('Age')\n",
    "print(\"Age: \"+str(ageOutliner))\n",
    "if(len(ageOutliner)>0):\n",
    "    plotBoxChart(ageOutliner, \"Age Outliner\")\n",
    "   \n",
    "ageOutliner = getOutlier('Experience')\n",
    "print(\"Experience: \"+str(ageOutliner))\n",
    "if(len(ageOutliner)>0):\n",
    "    plotBoxChart(ageOutliner, \"Experience Outliner\")\n",
    "   \n",
    "ageOutliner = getOutlier('Income')\n",
    "print(\"Income outliner: \"+str(ageOutliner))\n",
    "\n",
    "plt.figure(figsize=(10, 6))\n",
    "sns.boxplot(y=df['Income'])\n",
    "plt.title('Box Plot of Income')\n",
    "plt.ylabel('Income')\n",
    "plt.show()\n",
    "\n",
    "\n",
    "\n",
    "ageOutliner = getOutlier('Mortgage')\n",
    "print(ageOutliner)\n"
   ]
  },
  {
   "cell_type": "markdown",
   "id": "abc9c648",
   "metadata": {},
   "source": [
    "16. Give us the decile values of the variable ‘Income’ in the dataset."
   ]
  },
  {
   "cell_type": "code",
   "execution_count": 22,
   "id": "9fc9b0db",
   "metadata": {},
   "outputs": [
    {
     "name": "stdout",
     "output_type": "stream",
     "text": [
      "=======16. decile values of the variable ‘Income’    =======\n",
      "0       3\n",
      "1       2\n",
      "2       0\n",
      "3       7\n",
      "4       3\n",
      "       ..\n",
      "4995    2\n",
      "4996    0\n",
      "4997    1\n",
      "4998    3\n",
      "4999    6\n",
      "Name: Income, Length: 5000, dtype: int64\n",
      "=======END=======\n"
     ]
    }
   ],
   "source": [
    "print(\"=======16. decile values of the variable ‘Income’    =======\")\n",
    "dfIncome = df[['Income']]\n",
    "dfdecile = pd.qcut(dfIncome['Income'], 10, labels=False)\n",
    "print(dfdecile)\n",
    "print(\"=======END=======\")"
   ]
  },
  {
   "cell_type": "markdown",
   "id": "ff6f6454",
   "metadata": {},
   "source": [
    "17. Give the IQR of all the variables which are quantitative and continuous."
   ]
  },
  {
   "cell_type": "code",
   "execution_count": 24,
   "id": "64c49ba5",
   "metadata": {},
   "outputs": [
    {
     "name": "stdout",
     "output_type": "stream",
     "text": [
      "=======17. IQR of all the variables which are quantitative and continuous   =======\n",
      "Age            20.0\n",
      "Experience     20.0\n",
      "Income         59.0\n",
      "Family          2.0\n",
      "CCAvg           1.8\n",
      "Mortgage      101.0\n",
      "dtype: float64\n",
      "=======END=======\n"
     ]
    }
   ],
   "source": [
    "\n",
    "\n",
    "\n",
    "print(\"=======17. IQR of all the variables which are quantitative and continuous   =======\")\n",
    "df_int_new = df.iloc[:,[1,2,3,5,6,8]]\n",
    "df_int_new.describe()\n",
    "Q3 = df_int_new.quantile(.75)\n",
    "Q1 = df_int_new.quantile(.25)\n",
    "\n",
    "IQR = Q3-Q1\n",
    "print(IQR)\n",
    "print(\"=======END=======\")"
   ]
  },
  {
   "cell_type": "markdown",
   "id": "16334200",
   "metadata": {},
   "source": [
    "18. Do the higher-income holders spend more on credit cards?"
   ]
  },
  {
   "cell_type": "code",
   "execution_count": 25,
   "id": "64726b2a",
   "metadata": {},
   "outputs": [
    {
     "name": "stdout",
     "output_type": "stream",
     "text": [
      "=======18. higher-income holders spend more on credit cards =======\n",
      "          Income     CCAvg\n",
      "Income  1.000000  0.645984\n",
      "CCAvg   0.645984  1.000000\n",
      "The correlation between Income and CCAvg is 0.6459836696249653\n",
      "=======END=======\n"
     ]
    }
   ],
   "source": [
    "print(\"=======18. higher-income holders spend more on credit cards =======\")\n",
    "incomeSpent = df[['Income','CCAvg']]\n",
    "print(incomeSpent.corr())\n",
    "correlation = df['Income'].corr(df['CCAvg'])\n",
    "print(f\"The correlation between Income and CCAvg is {correlation}\")\n",
    "print(\"=======END=======\")"
   ]
  },
  {
   "cell_type": "markdown",
   "id": "aea1cd71",
   "metadata": {},
   "source": [
    "19. How many customers use online banking? Do customers using bank internet facilities have higher incomes?"
   ]
  },
  {
   "cell_type": "code",
   "execution_count": 26,
   "id": "9217cca7",
   "metadata": {},
   "outputs": [
    {
     "name": "stdout",
     "output_type": "stream",
     "text": [
      "=======19. Customers use online banking =======\n",
      "customers use online banking: 2984\n",
      "customers using bank internet facilities have higher incomesIncome    74.311662\n",
      "Online     1.000000\n",
      "dtype: float64\n",
      "=======END=======\n"
     ]
    }
   ],
   "source": [
    "print(\"=======19. Customers use online banking =======\")\n",
    "onlineIncmdf = df[['Income','Online']]\n",
    "dfonlineBk = onlineIncmdf[onlineIncmdf['Online']!=0]\n",
    "print(\"customers use online banking: \"+str(len(dfonlineBk)))\n",
    "print(\"customers using bank internet facilities have higher incomes\"+str(dfonlineBk.mean()))\n",
    "print(\"=======END=======\")"
   ]
  },
  {
   "cell_type": "markdown",
   "id": "b24ae62a",
   "metadata": {},
   "source": [
    "20. Using the z-score of the income variable, find out the number of observations outside the +-3σ."
   ]
  },
  {
   "cell_type": "code",
   "execution_count": 28,
   "id": "5e3b536e",
   "metadata": {},
   "outputs": [
    {
     "name": "stdout",
     "output_type": "stream",
     "text": [
      "Number of observations outside ±3σ: 2\n"
     ]
    },
    {
     "data": {
      "image/png": "[encoded data removed]",
      "text/plain": [
       "<Figure size 640x480 with 1 Axes>"
      ]
     },
     "metadata": {},
     "output_type": "display_data"
    }
   ],
   "source": [
    "mean_income = df['Income'].mean()\n",
    "std_dev_income = df['Income'].std()\n",
    "\n",
    "df['Z_Score'] = (df['Income'] - mean_income) / std_dev_income\n",
    "\n",
    "outliers = df[(df['Z_Score'] < -3) | (df['Z_Score'] > 3)]\n",
    "num_outliers = outliers.shape[0]\n",
    "\n",
    "print(f\"Number of observations outside ±3σ: {num_outliers}\")\n",
    "\n",
    "sns.boxplot(df['Z_Score'])\n",
    "plt.title('Box plot')\n",
    "plt.show()"
   ]
  },
  {
   "cell_type": "code",
   "execution_count": null,
   "id": "11ea9838",
   "metadata": {},
   "outputs": [],
   "source": []
  }
 ],
 "metadata": {
  "kernelspec": {
   "display_name": "Python 3 (ipykernel)",
   "language": "python",
   "name": "python3"
  },
  "language_info": {
   "codemirror_mode": {
    "name": "ipython",
    "version": 3
   },
   "file_extension": ".py",
   "mimetype": "text/x-python",
   "name": "python",
   "nbconvert_exporter": "python",
   "pygments_lexer": "ipython3",
   "version": "3.11.5"
  }
 },
 "nbformat": 4,
 "nbformat_minor": 5
}
